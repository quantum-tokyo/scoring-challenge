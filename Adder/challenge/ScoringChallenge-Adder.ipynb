{
 "cells": [
  {
   "cell_type": "markdown",
   "metadata": {},
   "source": [
    "#  量子回路における加算器\n",
    "量子回路を用いて単純な古典計算(加算)を行います。\n",
    "\n",
    "さまざまな論理ゲート（AND、OR、XORなど）を組み合わせて古典計算で加算器を作成できるのと同じように、量子回路でも加算器を作成することもできます。"
   ]
  },
  {
   "cell_type": "markdown",
   "metadata": {},
   "source": [
    "演習を開始する前に、下の最初のセルをクリックして「shift」+「enter」を押して実行してください。 これは、Jupyter Notebookの環境でコードセルを実行する一般的な方法です。 実行中は、そのセルの左上に[*]：が表示されます。 実行が終了すると、実行したセルの数を示す星の代わりに数字が表示されます。 Jupyter Notebookの詳細については、Qiskit Textbookのこちらの章をご覧ください：[Python and Jupyter Notebooks](https://github.com/qiskit-community/qiskit-textbook/blob/master-ja/content/ch-prerequisites/python-and-jupyter-notebooks.ipynb)"
   ]
  },
  {
   "cell_type": "code",
   "execution_count": null,
   "metadata": {},
   "outputs": [],
   "source": [
    "# 標準のQiskitライブラリーをインポートしてアカウントを構成する\n",
    "from qiskit import QuantumRegister, ClassicalRegister, QuantumCircuit\n",
    "from qiskit import IBMQ, Aer, execute\n",
    "from qiskit.visualization import plot_bloch_multivector\n",
    "\n",
    "# このコードをIBM Quantum Experience以外の環境で実行する場合には、\n",
    "# あなたのAPIトークンをローカルに保存するために以下のコマンドを実行してください。\n",
    "# Please refer https://qiskit.org/documentation/install.html#access-ibm-quantum-systems\n",
    "# IBMQ.save_account('MY_API_TOKEN')\n",
    "\n",
    "# IBM Q アカウントをロードします\n",
    "IBMQ.load_account()"
   ]
  },
  {
   "cell_type": "markdown",
   "metadata": {},
   "source": [
    "### 量子回路とは？\n",
    "\n",
    "量子回路は、量子計算の過程を記述する手法の１つで、基本的な操作を行う量子ゲートを組み合わせて構成されます。まず、いくつかの主要な量子ゲートをご紹介します。"
   ]
  },
  {
   "cell_type": "markdown",
   "metadata": {},
   "source": [
    "### Xゲート\n",
    "Xゲートはブロッホ球の$x$軸周りの$\\pi$回転です。\n",
    "|0>にXゲートを適用すると|1>、|1>にXゲートを適用すると|0>になるので、古典のNOTゲートのような操作が実現でき、ビット反転とも呼ばれます。<br/>線形代数について学習したい方はQiskit Textbookのこちらの章をご覧ください：[Linear Algebra](https://github.com/qiskit-community/qiskit-textbook/blob/master-ja/content/ch-appendix/linear_algebra.ipynb)\n",
    "\n",
    "$X = \\begin{pmatrix}\n",
    "0 & 1 \\\\\n",
    "1 & 0 \\\\\n",
    "\\end{pmatrix}$"
   ]
  },
  {
   "cell_type": "code",
   "execution_count": null,
   "metadata": {},
   "outputs": [],
   "source": [
    "# |0> qubitにXゲートをかけます\n",
    "q = QuantumRegister(1)\n",
    "qc = QuantumCircuit(q)\n",
    "qc.x(q[0])\n",
    "qc.draw(output='mpl')"
   ]
  },
  {
   "cell_type": "markdown",
   "metadata": {},
   "source": [
    "注：新表記では`QuantumRegister`を省略するコーディング方法もありますが、今回のChallengeでは、こちらのコーディング法を使います。複雑な量子回路のアルゴリズムを理解しやすくするためです。（新表記についてはこちらをご覧ください：https://qiskit.org/documentation/stubs/qiskit.circuit.QuantumCircuit.html?highlight=quantumcircuit#qiskit.circuit.QuantumCircuit）"
   ]
  },
  {
   "cell_type": "code",
   "execution_count": null,
   "metadata": {},
   "outputs": [],
   "source": [
    "# 結果を見てみましょう\n",
    "backend = Aer.get_backend('statevector_simulator')\n",
    "result = execute(qc, backend).result().get_statevector(qc, decimals=3)\n",
    "plot_bloch_multivector(result)"
   ]
  },
  {
   "cell_type": "markdown",
   "metadata": {},
   "source": [
    "### Hゲート\n",
    "Hadamardゲート(アダマールゲート)はブロッホ球の$x$軸と$z$軸の中間の軸周りの$\\pi$回転です。\n",
    "例えば$|0\\rangle$にHゲートを適用すると、$\\frac{|0\\rangle + |1\\rangle}{\\sqrt{2}}$のような重ね合わせ状態（測定すると0または1になる確率が等しい状態）を作ることができます。この状態は$|+\\rangle$とも表記されます。\n",
    "\n",
    "$H = \\frac{1}{\\sqrt{2}}\\begin{pmatrix}\n",
    "1 & 1 \\\\\n",
    "1 & -1 \\\\\n",
    "\\end{pmatrix}$"
   ]
  },
  {
   "cell_type": "code",
   "execution_count": null,
   "metadata": {},
   "outputs": [],
   "source": [
    "# |0> qubitにHゲートをかけてみましょう\n",
    "q = QuantumRegister(1)\n",
    "qc = QuantumCircuit(q)\n",
    "qc.h(q[0])\n",
    "qc.draw(output='mpl')"
   ]
  },
  {
   "cell_type": "code",
   "execution_count": null,
   "metadata": {},
   "outputs": [],
   "source": [
    "# 結果を見てみます\n",
    "backend = Aer.get_backend('statevector_simulator')\n",
    "result = execute(qc, backend).result().get_statevector(qc, decimals=3)\n",
    "plot_bloch_multivector(result)"
   ]
  },
  {
   "cell_type": "markdown",
   "metadata": {},
   "source": [
    "### Zゲート\n",
    "Zゲートはブロッホ球の$z$軸周りの$\\pi$回転です。位相反転とも呼ばれます。\n",
    "$|0\\rangle$の状態には何も変化は与えず、$|1\\rangle$の時にその符号を反転させます。\n",
    "\n",
    "行列としては以下のように書かれます。\n",
    "\n",
    "$Z = \\begin{pmatrix}\n",
    "1 & 0 \\\\\n",
    "0 & -1 \\\\\n",
    "\\end{pmatrix}$"
   ]
  },
  {
   "cell_type": "code",
   "execution_count": null,
   "metadata": {},
   "outputs": [],
   "source": [
    "# |+>にZゲートをかけてみましょう\n",
    "q = QuantumRegister(1)\n",
    "qc = QuantumCircuit(q)\n",
    "qc.h(q[0])\n",
    "qc.z(q[0])\n",
    "qc.draw(output='mpl')"
   ]
  },
  {
   "cell_type": "code",
   "execution_count": null,
   "metadata": {},
   "outputs": [],
   "source": [
    "# 結果を見てみます\n",
    "backend = Aer.get_backend('statevector_simulator')\n",
    "result = execute(qc, backend).result().get_statevector(qc, decimals=3)\n",
    "plot_bloch_multivector(result)"
   ]
  },
  {
   "cell_type": "markdown",
   "metadata": {},
   "source": [
    "### CXゲート(CNOTゲート)\n",
    "CXゲートは制御NOTゲート、CNOTとも呼ばれます。CXゲートは、２つの量子ビット(制御量子ビットとターゲット量子ビットと呼びます)を入出力に持ち、制御量子ビットが$|1\\rangle$のときに、ターゲット量子ビットに対してビット反転(Xゲート)を行います。(Qiskitでは、番号の大きい量子ビットほど高い位のビット数に対応しています。つまり、右から順に番号付けされます。)\n",
    "\n",
    "$CX = \\begin{pmatrix}\n",
    "1 & 0 & 0 & 0\\\\\n",
    "0 & 1 & 0 & 0\\\\\n",
    "0 & 0 & 0 & 1\\\\\n",
    "0 & 0 & 1 & 0\\\\\n",
    "\\end{pmatrix}$"
   ]
  },
  {
   "cell_type": "code",
   "execution_count": null,
   "metadata": {},
   "outputs": [],
   "source": [
    "# |00>にCXゲートをかけてみましょう\n",
    "q = QuantumRegister(2)\n",
    "qc = QuantumCircuit(q)\n",
    "qc.cx(q[0],q[1])\n",
    "qc.draw(output='mpl')"
   ]
  },
  {
   "cell_type": "markdown",
   "metadata": {},
   "source": [
    "### CZゲート\n",
    "CZゲートも、２つの量子ビット(制御量子ビットとターゲット量子ビットと呼びます)を入出力に持ち、制御量子ビットが$|1\\rangle$のときに、ターゲット量子ビットに対して位相反転(Zゲート)を行います。\n",
    "\n",
    "$CZ = \\begin{pmatrix}\n",
    "1 & 0 & 0 & 0\\\\\n",
    "0 & 1 & 0 & 0\\\\\n",
    "0 & 0 & 1 & 0\\\\\n",
    "0 & 0 & 0 & -1\\\\\n",
    "\\end{pmatrix}$"
   ]
  },
  {
   "cell_type": "code",
   "execution_count": null,
   "metadata": {},
   "outputs": [],
   "source": [
    "# |00>にCZゲートをかけてみましょう\n",
    "q = QuantumRegister(2)\n",
    "qc = QuantumCircuit(q)\n",
    "qc.cz(q[0],q[1])\n",
    "qc.draw(output='mpl')"
   ]
  },
  {
   "cell_type": "markdown",
   "metadata": {},
   "source": [
    "なお、CZゲートはCXゲートとHゲートから作ることができます。"
   ]
  },
  {
   "cell_type": "code",
   "execution_count": null,
   "metadata": {},
   "outputs": [],
   "source": [
    "# CZゲートをCXゲートとHゲートから作ります\n",
    "q = QuantumRegister(2)\n",
    "qc = QuantumCircuit(q)\n",
    "\n",
    "qc.h(q[1])\n",
    "qc.cx(q[0],q[1])\n",
    "qc.h(q[1])\n",
    "qc.draw(output='mpl')"
   ]
  },
  {
   "cell_type": "markdown",
   "metadata": {},
   "source": [
    "### CCXゲート\n",
    "CCXゲートはToffoliゲートとも呼ばれます。\n",
    "\n",
    "CCXゲートは、3つの量子ビット(2つの制御量子ビットと1つのターゲット量子ビット)を入出力に持ち、制御量子ビットが2つとも$|1\\rangle$ のときに、ターゲット量子ビットに対してビット反転(Xゲート)を行います。(Qiskitでは、右から順に番号付けされることに注意してください。)\n",
    "\n",
    "$CCX = \\begin{pmatrix}\n",
    "1 & 0 & 0 & 0 & 0 & 0 & 0 & 0\\\\\n",
    "0 & 1 & 0 & 0 & 0 & 0 & 0 & 0\\\\\n",
    "0 & 0 & 1 & 0 & 0 & 0 & 0 & 0\\\\\n",
    "0 & 0 & 0 & 1 & 0 & 0 & 0 & 0\\\\\n",
    "0 & 0 & 0 & 0 & 1 & 0 & 0 & 0\\\\\n",
    "0 & 0 & 0 & 0 & 0 & 1 & 0 & 0\\\\\n",
    "0 & 0 & 0 & 0 & 0 & 0 & 0 & 1\\\\\n",
    "0 & 0 & 0 & 0 & 0 & 0 & 1 & 0\\\\\n",
    "\\end{pmatrix}$"
   ]
  },
  {
   "cell_type": "code",
   "execution_count": null,
   "metadata": {},
   "outputs": [],
   "source": [
    "# |00>にCCXゲートをかけてみましょう\n",
    "q = QuantumRegister(3)\n",
    "qc = QuantumCircuit(q)\n",
    "qc.ccx(q[0],q[1],q[2])\n",
    "qc.draw(output='mpl')"
   ]
  },
  {
   "cell_type": "markdown",
   "metadata": {},
   "source": [
    "その他の量子ゲートの詳細に関しては[Single Qubit Gates](https://qiskit.org/textbook/ch-states/single-qubit-gates.html) をご覧ください。"
   ]
  },
  {
   "cell_type": "markdown",
   "metadata": {},
   "source": [
    "## 古典の論理ゲートを量子ゲートで作成する\n",
    "古典の論理ゲートを量子ゲートで作成してみましょう。\n",
    "真理値表と量子回路による表現を以下に示します。なお、量子レジスタをq、古典レジスタをcとし、測定結果を作成する論理ゲートの出力とします。"
   ]
  },
  {
   "cell_type": "markdown",
   "metadata": {},
   "source": [
    "### NOTゲート\n",
    "先述の通り、XゲートをNOTゲートとみなすことができます。 真理値表は以下のようになります。\n",
    "\n",
    "\n",
    "|入力|出力|\n",
    "|--|--|\n",
    "|0|1|\n",
    "|1|0|"
   ]
  },
  {
   "cell_type": "code",
   "execution_count": null,
   "metadata": {},
   "outputs": [],
   "source": [
    "# 量子レジスター1個と古典レジスター1個の量子回路を作成する\n",
    "q = QuantumRegister(1)\n",
    "c = ClassicalRegister(1)\n",
    "qc = QuantumCircuit(q,c)\n",
    "qc.x(q[0])\n",
    "qc.measure(q[0], c[0])    # 測定した結果を古典ビットにマップする\n",
    "qc.draw(output='mpl')"
   ]
  },
  {
   "cell_type": "markdown",
   "metadata": {},
   "source": [
    "### ANDゲート\n",
    "ANDゲートの真理値表は以下のようなものです。\n",
    "\n",
    "|入力A|入力B|出力|\n",
    "|--|--|--|\n",
    "|0|0|0|\n",
    "|0|1|0|\n",
    "|1|0|0|\n",
    "|1|1|1|\n",
    "\n",
    "CCXゲートを用いると、制御量子ビット2つに対するANDゲートの結果をターゲット量子ビットに得られます。"
   ]
  },
  {
   "cell_type": "code",
   "execution_count": null,
   "metadata": {},
   "outputs": [],
   "source": [
    "q = QuantumRegister(3)\n",
    "c = ClassicalRegister(1)\n",
    "qc = QuantumCircuit(q,c)\n",
    "qc.ccx(q[0], q[1], q[2])\n",
    "qc.measure(q[2], c[0])\n",
    "qc.draw(output='mpl')"
   ]
  },
  {
   "cell_type": "markdown",
   "metadata": {},
   "source": [
    "### NANDゲート\n",
    "NANDゲートはANDゲートにNOTゲートを適用したものと捉えることができます。\n",
    "\n",
    "|入力A|入力B|出力|\n",
    "|--|--|--|\n",
    "|0|0|1|\n",
    "|0|1|1|\n",
    "|1|0|1|\n",
    "|1|1|0|"
   ]
  },
  {
   "cell_type": "code",
   "execution_count": null,
   "metadata": {},
   "outputs": [],
   "source": [
    "q = QuantumRegister(3)\n",
    "c = ClassicalRegister(1)\n",
    "qc = QuantumCircuit(q,c)\n",
    "qc.ccx(q[0], q[1], q[2])\n",
    "qc.x(q[2])\n",
    "qc.measure(q[2], c[0])\n",
    "qc.draw(output='mpl')"
   ]
  },
  {
   "cell_type": "markdown",
   "metadata": {},
   "source": [
    "### ORゲート\n",
    "\n",
    "|入力A|入力B|出力|\n",
    "|--|--|--|\n",
    "|0|0|0|\n",
    "|0|1|1|\n",
    "|1|0|1|\n",
    "|1|1|1|"
   ]
  },
  {
   "cell_type": "code",
   "execution_count": null,
   "metadata": {},
   "outputs": [],
   "source": [
    "q = QuantumRegister(3)\n",
    "c = ClassicalRegister(1)\n",
    "qc = QuantumCircuit(q,c)\n",
    "\n",
    "qc.cx(q[1], q[2])\n",
    "qc.cx(q[0], q[2])\n",
    "qc.ccx(q[0], q[1], q[2])\n",
    "qc.measure(q[2], c[0])\n",
    "qc.draw(output='mpl')"
   ]
  },
  {
   "cell_type": "markdown",
   "metadata": {},
   "source": [
    "### XORゲート\n",
    "|入力A|入力B|出力|\n",
    "|--|--|--|\n",
    "|0|0|0|\n",
    "|0|1|1|\n",
    "|1|0|1|\n",
    "|1|1|0|"
   ]
  },
  {
   "cell_type": "code",
   "execution_count": null,
   "metadata": {},
   "outputs": [],
   "source": [
    "q = QuantumRegister(3)\n",
    "c = ClassicalRegister(1)\n",
    "qc = QuantumCircuit(q,c)\n",
    "qc.cx(q[1], q[2])\n",
    "qc.cx(q[0], q[2])\n",
    "qc.measure(q[2], c[0])\n",
    "qc.draw(output='mpl')"
   ]
  },
  {
   "cell_type": "markdown",
   "metadata": {},
   "source": [
    "### NORゲート \n",
    "\n",
    "|入力A|入力B|出力|\n",
    "|--|--|--|\n",
    "|0|0|1|\n",
    "|0|1|0|\n",
    "|1|0|0|\n",
    "|1|1|0|"
   ]
  },
  {
   "cell_type": "code",
   "execution_count": null,
   "metadata": {},
   "outputs": [],
   "source": [
    "q = QuantumRegister(3)\n",
    "c = ClassicalRegister(1)\n",
    "qc = QuantumCircuit(q,c)\n",
    "\n",
    "qc.cx(q[1], q[2])\n",
    "qc.cx(q[0], q[2])\n",
    "qc.ccx(q[0], q[1], q[2])\n",
    "qc.x(q[2])\n",
    "qc.measure(q[2], c[0])\n",
    "qc.draw(output='mpl')"
   ]
  },
  {
   "cell_type": "markdown",
   "metadata": {},
   "source": [
    "# 加算器\n",
    "\n",
    "加算器は足し算を行う論理回路です。\n",
    "\n",
    "今回は最もシンプルな加算器である半加算器と全加算器を用いた加算器に関して考えます。"
   ]
  },
  {
   "cell_type": "markdown",
   "metadata": {},
   "source": [
    "## 半加算器\n",
    "半加算器は、２進数を2つ与えられたとき、一番下の位の値どうしの加算を行います。\n",
    "1ビットの情報2つ(入力A,B)が入力として与えられ、桁上げ出力(Carry out)、出力（Sum、和）の２つを出力に持ちます。\n",
    "この桁上げ出力の情報は、後述の全加算器の入力の１つとして１つ上の位の値を求めるために用いられます。\n",
    "\n",
    "\n",
    "半加算器は以下の様な真理値表の論理回路で表すことができます。\n",
    "\n",
    "|入力A|入力B|出力S|桁上げ出力C|\n",
    "|-----------|------------|------------|------------|\n",
    "|0|0|0|0|\n",
    "|0|1|1|0|\n",
    "|1|0|1|0|\n",
    "|1|1|0|1|\n",
    "\n",
    "この真理値表を見ると、桁上げ出力Cは入力Aと入力Bに対してANDを適用したものであること、出力Sは入力Aと入力Bに対してXORを適用したものであることがわかります。\n",
    "ANDとXORに関してはすでに作成済みなので、以下のように組み合わせて半加算器の量子回路が作成できます。\n",
    "\n",
    "なお、量子レジスタをq, 古典レジスタcとし、入力A, Bをq[0],q[1]に、出力S,桁上げ出力C,をq[2], q[3]に割り振ります。\n",
    "また、出力結果はc[1], c[0]の順になっていることに注意して下さい。"
   ]
  },
  {
   "cell_type": "code",
   "execution_count": null,
   "metadata": {},
   "outputs": [],
   "source": [
    "#各レジスター、量子回路を宣言\n",
    "q = QuantumRegister(4)\n",
    "c = ClassicalRegister(2)\n",
    "qc = QuantumCircuit(q,c)\n",
    "\n",
    "#XOR\n",
    "qc.cx(q[1], q[2])\n",
    "qc.cx(q[0], q[2])\n",
    "qc.barrier()\n",
    "\n",
    "#AND\n",
    "qc.ccx(q[0], q[1], q[3])\n",
    "qc.barrier()\n",
    "\n",
    "#Sum\n",
    "qc.measure(q[2], c[0])\n",
    "#Carry out\n",
    "qc.measure(q[3], c[1])\n",
    "\n",
    "backend = Aer.get_backend('qasm_simulator')\n",
    "job = execute(qc, backend, shots=1000)\n",
    "result = job.result()\n",
    "count =result.get_counts()\n",
    "print(count)\n",
    "qc.draw(output='mpl')"
   ]
  },
  {
   "cell_type": "markdown",
   "metadata": {},
   "source": [
    "## <span style=\"color: red; \">重要: Unrollerを用いた量子コストの導出</span>\n",
    "プログラム(量子回路)を評価する手法がいくつか存在します。\n",
    "\n",
    "1. 量子ビット数\n",
    "2. 深さ\n",
    "3. 実行速度\n",
    "4. 命令数\n",
    "\n",
    "これらはどれも量子計算の結果やスループットなどに影響する重要な尺度ですが、今回のQuantum Challengeでは特に4の命令数を指標として、以下のようにプログラムを評価しています。今回の手法で用いる値をコストと呼称します。\n",
    "\n",
    "コスト $=$ 単一量子ビットゲートの数 $+$ CXゲートの数 $\\times 10$\n",
    "\n",
    "任意の量子回路は単一量子ビットゲート(1量子ビットに対する命令)と2量子ビットゲートに対する命令に分解できます。現在のノイズの多い中規模量子デバイス（NISQ）では、CXゲートのエラー率は一般に単一量子ビットゲートの10倍です。よって、コストでは、CXゲートの重みづけを単一量子ビットゲートの10倍にします。\n",
    "\n",
    "unrollerと呼ばれるプログラムを用いることで、皆さんのお手元でもこのコストを導出することができます。\n",
    "例えば、以下のような量子回路があったとします。"
   ]
  },
  {
   "cell_type": "code",
   "execution_count": null,
   "metadata": {},
   "outputs": [],
   "source": [
    "import numpy as np\n",
    "from qiskit import QuantumCircuit, ClassicalRegister, QuantumRegister\n",
    "from qiskit import BasicAer, execute\n",
    "from qiskit.quantum_info import Pauli, state_fidelity, process_fidelity\n",
    "q = QuantumRegister(4, 'q0')\n",
    "c = ClassicalRegister(1, 'c0')\n",
    "qc = QuantumCircuit(q, c)\n",
    "qc.ccx(q[0], q[1], q[2])\n",
    "qc.cx(q[3], q[1])\n",
    "qc.h(q[3])\n",
    "qc.ccx(q[3], q[2], q[1])\n",
    "qc.measure(q[3],c[0])\n",
    "qc.draw(output='mpl')"
   ]
  },
  {
   "cell_type": "code",
   "execution_count": null,
   "metadata": {},
   "outputs": [],
   "source": [
    "qc.count_ops()"
   ]
  },
  {
   "cell_type": "markdown",
   "metadata": {},
   "source": [
    "この量子回路にはHゲート、CXゲート、CCXゲートが入っています。qiskit.transpilerを使ってPassManagerをインポートすることで、以下のようにUnrollerによって指定されたゲートに分解できます。この場合では、u3ゲートとcxゲートに分解します。"
   ]
  },
  {
   "cell_type": "code",
   "execution_count": null,
   "metadata": {},
   "outputs": [],
   "source": [
    "from qiskit.transpiler import PassManager\n",
    "from qiskit.transpiler.passes import Unroller\n",
    "pass_ = Unroller(['u3', 'cx'])\n",
    "pm = PassManager(pass_)\n",
    "new_circuit = pm.run(qc) \n",
    "new_circuit.draw(output='mpl')"
   ]
  },
  {
   "cell_type": "code",
   "execution_count": null,
   "metadata": {},
   "outputs": [],
   "source": [
    "new_circuit.count_ops()"
   ]
  },
  {
   "cell_type": "markdown",
   "metadata": {},
   "source": [
    "よって、この回路のコストは$19+13\\times10=149$ということになります。\n",
    "\n",
    "単一量子ビットゲートやCXゲート以外のゲートが、Unrollerによってどのように分解されるかは簡単に確認できるので、興味がある人は自分で調べてみましょう。以下ではサンプルとして、CCXゲートをu3ゲートとCXゲートに分解しています。"
   ]
  },
  {
   "cell_type": "code",
   "execution_count": null,
   "metadata": {},
   "outputs": [],
   "source": [
    "q = QuantumRegister(3, 'q0')\n",
    "c = ClassicalRegister(1, 'c0')\n",
    "qc = QuantumCircuit(q, c)\n",
    "qc.ccx(q[0], q[1], q[2])\n",
    "qc.draw(output='mpl')"
   ]
  },
  {
   "cell_type": "code",
   "execution_count": null,
   "metadata": {},
   "outputs": [],
   "source": [
    "pass_ = Unroller(['u3', 'cx'])\n",
    "pm = PassManager(pass_)\n",
    "new_circuit = pm.run(qc) \n",
    "new_circuit.draw(output='mpl')"
   ]
  },
  {
   "cell_type": "code",
   "execution_count": null,
   "metadata": {},
   "outputs": [],
   "source": [
    "new_circuit.count_ops()"
   ]
  },
  {
   "cell_type": "markdown",
   "metadata": {},
   "source": [
    "上記の回路のコストは$9+6\\times10=69$ということになります。"
   ]
  },
  {
   "cell_type": "markdown",
   "metadata": {},
   "source": [
    "# ラーニング演習\n",
    "全加算器は、下の位からの桁上げを含む加算器である。\n",
    "全加算器を量子回路で表現し、\n",
    "\n",
    "$A=1$, $B=0$, $X=1$\n",
    "\n",
    "の時の結果を出力せよ。なお、真理値表は以下のようになる。\n",
    "\n",
    "|入力A|入力B|桁上げ入力X|出力S|桁上げ出力C|\n",
    "|--|--|--|--|--|\n",
    "|0|0|0|0|0|\n",
    "|0|0|1|1|0|\n",
    "|0|1|0|1|0|\n",
    "|0|1|1|0|1|\n",
    "|1|0|0|1|0|\n",
    "|1|0|1|0|1|\n",
    "|1|1|0|0|1|\n",
    "|1|1|1|1|1|\n",
    "\n",
    "\n",
    "なお、量子レジスタをq, 古典レジスタcとする。また、入力A, B, 桁上げ入力Xをそれぞれq[0], q[1], q[2]に与えられるものとし、測定結果のc[0]に出力S、c[1]に桁上げ出力Cが出力されるようにすること。"
   ]
  },
  {
   "cell_type": "code",
   "execution_count": null,
   "metadata": {},
   "outputs": [],
   "source": [
    "from qiskit import QuantumRegister, ClassicalRegister, QuantumCircuit\n",
    "from qiskit import IBMQ, Aer, execute\n",
    "\n",
    "##### ここに量子回路を作成してください。回路の変数名はqcとしてください。\n",
    "qc = \n",
    "\n",
    "\n",
    "################\n",
    "qc.draw()\n",
    "# qasm_simulatorを使って回路を実行させてください。101の場合の出力と合っていることを確認してください。\n",
    "backend = Aer.get_backend('qasm_simulator')\n",
    "job = execute(qc, backend, shots=1000)\n",
    "result = job.result()\n",
    "count =result.get_counts()\n",
    "print(count)\n",
    "qc.draw(output='mpl')"
   ]
  },
  {
   "cell_type": "code",
   "execution_count": null,
   "metadata": {},
   "outputs": [],
   "source": [
    "# 以下を実行して解を確認してください。\n",
    "# 事前にその下にある関数の定義のセルを実行し、usernameの引数<your name>にご自身を識別できる名前を入れてください。\n",
    "check_score(qc,username=<your name>) # 文字列として入れてください。"
   ]
  },
  {
   "cell_type": "code",
   "execution_count": null,
   "metadata": {},
   "outputs": [],
   "source": [
    "import requests\n",
    "from qiskit.transpiler import PassManager\n",
    "from qiskit.transpiler.passes import Unroller\n",
    "\n",
    "def check_score(org_qc,username):\n",
    "    \n",
    "    def exec_qasm_simulator(circ,answer):\n",
    "        backend = Aer.get_backend('qasm_simulator')\n",
    "        job = execute(circ, backend, shots=100)\n",
    "        result = job.result()\n",
    "        count =result.get_counts()\n",
    "        if len(count) == 1 and list(count.keys())[0] == answer:\n",
    "            return True\n",
    "        else:\n",
    "            return False\n",
    "        \n",
    "\n",
    "    test_array = [\"00\",\"01\",\"01\",\"10\",\"01\",\"10\",\"10\",\"11\"]\n",
    "    \n",
    "    for num in range(8):\n",
    "        test_qc = QuantumCircuit(org_qc.num_qubits,2)\n",
    "        \n",
    "        test_qc.x(0)\n",
    "        test_qc.x(2)\n",
    "        \n",
    "        binary =\"{0:b}\".format(num) \n",
    "        for k,b in enumerate(binary[::-1]):\n",
    "            if b == \"1\":\n",
    "                test_qc.x(k)\n",
    "        \n",
    "        test_qc.append(org_qc,range(org_qc.num_qubits),[0,1])\n",
    "        \n",
    "        if exec_qasm_simulator(test_qc,test_array[num]):\n",
    "            #result = \"OK\"\n",
    "            pass\n",
    "        else:\n",
    "            print(\"回路に誤りがあります。もう一度見直してみてください。\")\n",
    "            return \n",
    "    \n",
    "    cost = 0\n",
    "    for gate,num in PassManager(Unroller(['u3', 'cx'])).run(org_qc).count_ops().items():\n",
    "        if gate == \"cx\":\n",
    "            cost += num*10\n",
    "        elif gate == \"u3\":\n",
    "            cost += num\n",
    "    result = \"おめでとうございます！あなたのスコア：{}\".format(cost)  \n",
    "    print(result)\n",
    "    requests.post(\"https://us-south.functions.appdomain.cloud/api/v1/web/twilightmoonwalker%40yahoo.co.jp_dev/default/adder-score-store?name={}&score={}\".format(username,cost))\n",
    "        \n",
    "    return "
   ]
  },
  {
   "cell_type": "code",
   "execution_count": null,
   "metadata": {},
   "outputs": [],
   "source": []
  }
 ],
 "metadata": {
  "kernelspec": {
   "display_name": "Python 3 (ipykernel)",
   "language": "python",
   "name": "python3"
  },
  "language_info": {
   "codemirror_mode": {
    "name": "ipython",
    "version": 3
   },
   "file_extension": ".py",
   "mimetype": "text/x-python",
   "name": "python",
   "nbconvert_exporter": "python",
   "pygments_lexer": "ipython3",
   "version": "3.10.8"
  },
  "widgets": {
   "application/vnd.jupyter.widget-state+json": {
    "state": {},
    "version_major": 2,
    "version_minor": 0
   }
  }
 },
 "nbformat": 4,
 "nbformat_minor": 4
}
